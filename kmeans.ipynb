{
 "cells": [
  {
   "cell_type": "code",
   "execution_count": 1,
   "id": "f3b244c6",
   "metadata": {},
   "outputs": [],
   "source": [
    "# Some required imports.\n",
    "# Make sure you have these packages installed on your system.\n",
    "import pandas as pd\n",
    "import numpy as np\n",
    "import math \n",
    "import matplotlib.pyplot as plt\n",
    "import random as rd"
   ]
  },
  {
   "cell_type": "code",
   "execution_count": 2,
   "id": "6df4d40b",
   "metadata": {},
   "outputs": [],
   "source": [
    "# Distance function used by the kmeans algorithm (euklidean distance)\n",
    "def distance(a,b):\n",
    "    return math.sqrt(math.pow(a[0]-b[0],2) + math.pow(a[1]-b[1],2))\n",
    "    "
   ]
  },
  {
   "cell_type": "code",
   "execution_count": 3,
   "id": "941af76c",
   "metadata": {},
   "outputs": [
    {
     "ename": "SyntaxError",
     "evalue": "incomplete input (4165058256.py, line 19)",
     "output_type": "error",
     "traceback": [
      "\u001b[0;36m  Cell \u001b[0;32mIn[3], line 19\u001b[0;36m\u001b[0m\n\u001b[0;31m    \u001b[0m\n\u001b[0m    ^\u001b[0m\n\u001b[0;31mSyntaxError\u001b[0m\u001b[0;31m:\u001b[0m incomplete input\n"
     ]
    }
   ],
   "source": [
    "# This method contains the implementation of the kmeans algorithm, which \n",
    "# takes following input parameters:\n",
    "#   data_points - A Pandas DataFrame, where each row contains an x and y coordinate.\n",
    "#   termination_tol - Terminate when the total distance (sum of distance between each datapoint\n",
    "#                     and its centroid) is smaller than termination_tol. \n",
    "#   max_iter - Stop after maximum max_iter iterations.\n",
    "#\n",
    "# The method should return the following three items\n",
    "#   centroids - Pandas Dataframe containing centroids\n",
    "#   data_points - The data_points with added cluster column\n",
    "#   total_dist - The total distance for the final clustering\n",
    "#\n",
    "# return centroids, data_points, total_dist\n",
    "#\n",
    "#  \n",
    "def kmeans(data_points, num_clusters, termination_tol, max_iter):\n",
    "    \n",
    "    # You should implement the kmeans algorithm by editing this function.\n",
    "\n"
   ]
  },
  {
   "cell_type": "code",
   "execution_count": 4,
   "id": "81cc0108",
   "metadata": {},
   "outputs": [
    {
     "data": {
      "image/png": "[encoded data removed]",
      "text/plain": [
       "<Figure size 640x480 with 1 Axes>"
      ]
     },
     "metadata": {},
     "output_type": "display_data"
    },
    {
     "ename": "NameError",
     "evalue": "name 'kmeans' is not defined",
     "output_type": "error",
     "traceback": [
      "\u001b[0;31m---------------------------------------------------------------------------\u001b[0m",
      "\u001b[0;31mNameError\u001b[0m                                 Traceback (most recent call last)",
      "Cell \u001b[0;32mIn[4], line 22\u001b[0m\n\u001b[1;32m     19\u001b[0m total_dist_elbow \u001b[38;5;241m=\u001b[39m []\n\u001b[1;32m     21\u001b[0m \u001b[38;5;28;01mfor\u001b[39;00m k \u001b[38;5;129;01min\u001b[39;00m \u001b[38;5;28mrange\u001b[39m(\u001b[38;5;241m1\u001b[39m,num_clusters_to_test\u001b[38;5;241m+\u001b[39m\u001b[38;5;241m1\u001b[39m):\n\u001b[0;32m---> 22\u001b[0m     kmeans_output \u001b[38;5;241m=\u001b[39m kmeans(data_points, k, termination_tol, max_iter)\n\u001b[1;32m     23\u001b[0m     total_dist_elbow\u001b[38;5;241m.\u001b[39mappend(kmeans_output[\u001b[38;5;241m2\u001b[39m])\n\u001b[1;32m     25\u001b[0m \u001b[38;5;66;03m#Plot elbow curve\u001b[39;00m\n",
      "\u001b[0;31mNameError\u001b[0m: name 'kmeans' is not defined"
     ]
    }
   ],
   "source": [
    "# Test elbow method using this code\n",
    "\n",
    "# Read data points from csv file\n",
    "data_points = pd.read_csv(\"cluster_data_points.csv\")\n",
    "\n",
    "# Set termination criteria\n",
    "termination_tol = 0.001\n",
    "max_iter = 100\n",
    "\n",
    "\n",
    "# Plot random data using matplotlib\n",
    "fig, ax = plt.subplots()\n",
    "ax.scatter(data_points['x'], data_points['y'], c='black')\n",
    "plt.title(\"Data points\")\n",
    "plt.show()\n",
    "\n",
    "\n",
    "num_clusters_to_test = 15\n",
    "total_dist_elbow = []\n",
    "\n",
    "for k in range(1,num_clusters_to_test+1):\n",
    "    kmeans_output = kmeans(data_points, k, termination_tol, max_iter)\n",
    "    total_dist_elbow.append(kmeans_output[2])\n",
    "    \n",
    "#Plot elbow curve\n",
    "plt.plot(list(range(1,num_clusters_to_test+1)), total_dist_elbow)\n",
    "plt.title(\"Elbow method\")\n",
    "plt.xlabel(\"Number of clusters (k)\")\n",
    "plt.ylabel(\"Total distance\")\n",
    "plt.show()\n"
   ]
  },
  {
   "cell_type": "code",
   "execution_count": 5,
   "id": "a6110576",
   "metadata": {},
   "outputs": [
    {
     "ename": "NameError",
     "evalue": "name 'kmeans' is not defined",
     "output_type": "error",
     "traceback": [
      "\u001b[0;31m---------------------------------------------------------------------------\u001b[0m",
      "\u001b[0;31mNameError\u001b[0m                                 Traceback (most recent call last)",
      "Cell \u001b[0;32mIn[5], line 11\u001b[0m\n\u001b[1;32m      6\u001b[0m max_iter \u001b[38;5;241m=\u001b[39m \u001b[38;5;241m100\u001b[39m\n\u001b[1;32m      8\u001b[0m \u001b[38;5;28;01mfor\u001b[39;00m k \u001b[38;5;129;01min\u001b[39;00m \u001b[38;5;28mrange\u001b[39m(\u001b[38;5;241m1\u001b[39m,\u001b[38;5;241m11\u001b[39m):\n\u001b[0;32m---> 11\u001b[0m     kmeans_output \u001b[38;5;241m=\u001b[39m kmeans(data_points, k, termination_tol, max_iter)\n\u001b[1;32m     13\u001b[0m     fig, ax \u001b[38;5;241m=\u001b[39m plt\u001b[38;5;241m.\u001b[39msubplots()\n\u001b[1;32m     14\u001b[0m     ax\u001b[38;5;241m.\u001b[39mscatter(kmeans_output[\u001b[38;5;241m0\u001b[39m][\u001b[38;5;124m'\u001b[39m\u001b[38;5;124mx\u001b[39m\u001b[38;5;124m'\u001b[39m], kmeans_output[\u001b[38;5;241m0\u001b[39m][\u001b[38;5;124m'\u001b[39m\u001b[38;5;124my\u001b[39m\u001b[38;5;124m'\u001b[39m], c\u001b[38;5;241m=\u001b[39m\u001b[38;5;124m'\u001b[39m\u001b[38;5;124mblack\u001b[39m\u001b[38;5;124m'\u001b[39m, marker\u001b[38;5;241m=\u001b[39m\u001b[38;5;124m'\u001b[39m\u001b[38;5;124m*\u001b[39m\u001b[38;5;124m'\u001b[39m)\n",
      "\u001b[0;31mNameError\u001b[0m: name 'kmeans' is not defined"
     ]
    }
   ],
   "source": [
    "# Plot clusters for different values of k using this code\n",
    "data_points = pd.read_csv(\"cluster_data_points.csv\")\n",
    "\n",
    "termination_tol = 0.001\n",
    "max_iter = 100\n",
    "\n",
    "for k in range(1,11):\n",
    "    \n",
    "\n",
    "    kmeans_output = kmeans(data_points, k, termination_tol, max_iter)\n",
    "    \n",
    "    fig, ax = plt.subplots()\n",
    "    ax.scatter(kmeans_output[0]['x'], kmeans_output[0]['y'], c='black', marker='*')\n",
    "\n",
    "    for centroid_id in range(k):\n",
    "        points = data_points.loc[kmeans_output[1]['cluster'] == centroid_id]\n",
    "\n",
    "        ax.scatter(points['x'], points['y'])\n",
    "\n",
    "    plt.title(\"Clusters for k=\" + str(k))\n",
    "    plt.show()\n"
   ]
  },
  {
   "cell_type": "code",
   "execution_count": null,
   "id": "1ad11505-4f3c-4675-a449-f98d1897ad79",
   "metadata": {},
   "outputs": [],
   "source": []
  }
 ],
 "metadata": {
  "kernelspec": {
   "display_name": "Python 3 (ipykernel)",
   "language": "python",
   "name": "python3"
  },
  "language_info": {
   "codemirror_mode": {
    "name": "ipython",
    "version": 3
   },
   "file_extension": ".py",
   "mimetype": "text/x-python",
   "name": "python",
   "nbconvert_exporter": "python",
   "pygments_lexer": "ipython3",
   "version": "3.12.4"
  }
 },
 "nbformat": 4,
 "nbformat_minor": 5
}
